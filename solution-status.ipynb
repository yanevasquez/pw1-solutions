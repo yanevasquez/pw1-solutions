{
  "nbformat": 4,
  "nbformat_minor": 0,
  "metadata": {
    "colab": {
      "name": "Untitled0.ipynb",
      "provenance": [],
      "collapsed_sections": []
    },
    "kernelspec": {
      "name": "python3",
      "display_name": "Python 3"
    }
  },
  "cells": [
    {
      "cell_type": "code",
      "execution_count": 2,
      "metadata": {},
      "outputs": [
        {
          "name": "stdout",
          "output_type": "stream",
          "text": "erick.cristhian  francisco.cipriano  \\\nmvc                                    False               False   \ncrud                                   False               False   \nobject-comics                          False               False   \narray-products                         False               False   \nfunction-calc                          False               False   \narray-prime-factors                    False               False   \nfunction-fibonacci-sequence            False               False   \narray-matrix-operations                False               False   \nobject-company                         False               False   \nbasic-bmi                               True                True   \nfunction-area-of-circle                False               False   \nbasic-hello                             True                True   \nfunction_sum                           False               False   \narray-prime-numbers                    False               False   \nfunction-sum                           False               False   \nbasic-harmonic-series                  False                True   \nfunction-prime                         False               False   \nbasic-irrf                             False               False   \nobject-company-collection              False               False   \nfunction-fibonacci-number              False               False   \nfunction-prime-nth                     False               False   \narray-sum-all-numbers                  False               False   \nobject-order-oo                        False               False   \nfunction-triangle-checker              False               False   \narray-fibonacci-sequence               False               False   \nfunction-figure-text                   False               False   \narray-roman-number                     False               False   \nbasic-numbers                          False                True   \nobject-exam                            False               False   \narray-products-qtd                     False               False   \narray-min-withdraw                     False               False   \narray-util                             False               False   \nfunction-factorial                     False               False   \narray-operations                       False               False   \nobject-order-item-oo                   False               False   \nauth-crud                              False               False   \n\n                             joseph.adrian  karoline.lima  lucas.rodrigues  \\\nmvc                                  False          False            False   \ncrud                                 False          False            False   \nobject-comics                        False          False            False   \narray-products                       False          False            False   \nfunction-calc                        False          False             True   \narray-prime-factors                  False          False            False   \nfunction-fibonacci-sequence          False          False             True   \narray-matrix-operations              False          False            False   \nobject-company                       False          False            False   \nbasic-bmi                            False           True             True   \nfunction-area-of-circle              False          False             True   \nbasic-hello                           True           True             True   \nfunction_sum                         False          False            False   \narray-prime-numbers                  False          False            False   \nfunction-sum                          True          False             True   \nbasic-harmonic-series                False           True             True   \nfunction-prime                       False          False             True   \nbasic-irrf                           False           True             True   \nobject-company-collection            False          False            False   \nfunction-fibonacci-number            False          False             True   \nfunction-prime-nth                   False          False             True   \narray-sum-all-numbers                False          False            False   \nobject-order-oo                      False          False            False   \nfunction-triangle-checker            False          False             True   \narray-fibonacci-sequence             False          False            False   \nfunction-figure-text                 False          False            False   \narray-roman-number                   False          False            False   \nbasic-numbers                        False           True             True   \nobject-exam                          False          False            False   \narray-products-qtd                   False          False            False   \narray-min-withdraw                   False          False            False   \narray-util                           False          False            False   \nfunction-factorial                   False          False             True   \narray-operations                     False          False            False   \nobject-order-item-oo                 False          False            False   \nauth-crud                            False          False            False   \n\n                             lucas.sales  mauricio.pereira  paulo.beserra  \\\nmvc                                False             False          False   \ncrud                               False             False          False   \nobject-comics                       True              True          False   \narray-products                      True              True          False   \nfunction-calc                       True              True          False   \narray-prime-factors                 True              True          False   \nfunction-fibonacci-sequence         True              True          False   \narray-matrix-operations             True              True          False   \nobject-company                      True              True          False   \nbasic-bmi                           True              True          False   \nfunction-area-of-circle             True              True          False   \nbasic-hello                         True              True          False   \nfunction_sum                       False             False          False   \narray-prime-numbers                 True              True          False   \nfunction-sum                        True              True          False   \nbasic-harmonic-series               True              True          False   \nfunction-prime                      True              True          False   \nbasic-irrf                          True              True          False   \nobject-company-collection          False              True          False   \nfunction-fibonacci-number           True              True          False   \nfunction-prime-nth                  True              True          False   \narray-sum-all-numbers              False              True          False   \nobject-order-oo                     True              True          False   \nfunction-triangle-checker           True              True          False   \narray-fibonacci-sequence            True              True          False   \nfunction-figure-text               False              True          False   \narray-roman-number                 False              True          False   \nbasic-numbers                       True              True          False   \nobject-exam                        False              True          False   \narray-products-qtd                  True              True          False   \narray-min-withdraw                  True              True          False   \narray-util                          True              True          False   \nfunction-factorial                  True              True          False   \narray-operations                    True              True          False   \nobject-order-item-oo               False              True          False   \nauth-crud                           True             False          False   \n\n                             oliveira.rafael  renato.cesar  romero.reis  \\\nmvc                                    False         False        False   \ncrud                                   False         False        False   \nobject-comics                           True         False        False   \narray-products                         False         False        False   \nfunction-calc                          False         False        False   \narray-prime-factors                    False         False        False   \nfunction-fibonacci-sequence            False         False        False   \narray-matrix-operations                False         False        False   \nobject-company                          True         False        False   \nbasic-bmi                               True         False        False   \nfunction-area-of-circle                False         False        False   \nbasic-hello                             True         False        False   \nfunction_sum                            True         False        False   \narray-prime-numbers                    False         False        False   \nfunction-sum                            True         False        False   \nbasic-harmonic-series                   True         False        False   \nfunction-prime                         False         False        False   \nbasic-irrf                              True         False        False   \nobject-company-collection              False         False        False   \nfunction-fibonacci-number              False         False        False   \nfunction-prime-nth                     False         False        False   \narray-sum-all-numbers                  False         False        False   \nobject-order-oo                        False         False        False   \nfunction-triangle-checker              False         False        False   \narray-fibonacci-sequence               False         False        False   \nfunction-figure-text                   False         False        False   \narray-roman-number                     False         False        False   \nbasic-numbers                          False         False        False   \nobject-exam                            False         False        False   \narray-products-qtd                     False         False        False   \narray-min-withdraw                     False         False        False   \narray-util                              True         False        False   \nfunction-factorial                      True         False        False   \narray-operations                       False         False        False   \nobject-order-item-oo                   False         False        False   \nauth-crud                              False          True        False   \n\n                             william.oliveira  yane.lisset  \nmvc                                     False        False  \ncrud                                    False        False  \nobject-comics                           False        False  \narray-products                          False        False  \nfunction-calc                           False        False  \narray-prime-factors                     False        False  \nfunction-fibonacci-sequence             False        False  \narray-matrix-operations                 False        False  \nobject-company                          False        False  \nbasic-bmi                               False         True  \nfunction-area-of-circle                 False        False  \nbasic-hello                             False         True  \nfunction_sum                            False        False  \narray-prime-numbers                     False        False  \nfunction-sum                            False        False  \nbasic-harmonic-series                   False         True  \nfunction-prime                          False        False  \nbasic-irrf                              False         True  \nobject-company-collection               False        False  \nfunction-fibonacci-number               False        False  \nfunction-prime-nth                      False        False  \narray-sum-all-numbers                   False        False  \nobject-order-oo                         False        False  \nfunction-triangle-checker               False        False  \narray-fibonacci-sequence                False        False  \nfunction-figure-text                    False        False  \narray-roman-number                      False        False  \nbasic-numbers                           False         True  \nobject-exam                             False        False  \narray-products-qtd                      False        False  \narray-min-withdraw                      False        False  \narray-util                              False        False  \nfunction-factorial                      False        False  \narray-operations                        False        False  \nobject-order-item-oo                    False        False  \nauth-crud                               False        False  \n"
        }
      ],
      "source": [
        "import os\n",
        "import json\n",
        "import pandas as pd\n",
        "\n",
        "students = (\n",
        "  'erick.cristhian',\n",
        "  'francisco.cipriano',\n",
        "  'joseph.adrian',\n",
        "  'karoline.lima',\n",
        "  'lucas.rodrigues',\n",
        "  'lucas.sales',\n",
        "  'mauricio.pereira',\n",
        "  'paulo.beserra',\n",
        "  'oliveira.rafael',\n",
        "  'renato.cesar',\n",
        "  'romero.reis',\n",
        "  'william.oliveira',\n",
        "  'yane.lisset'\n",
        ")\n",
        "categories = ('laravel', 'php-core', 'php-web')\n",
        "status = {}\n",
        "\n",
        "for student in students:\n",
        "  status[student] = {}\n",
        "  for category in categories:\n",
        "    problems = os.listdir(category)\n",
        "    for problem in problems:\n",
        "      path = f'{category}/{problem}/{student}'\n",
        "      status[student][problem] = os.path.isdir(path) or os.path.isfile(f'{path}.php')\n",
        "\n",
        "# print(json.dumps(status, indent=4, sort_keys=True))\n",
        "df = pd.DataFrame(status)\n",
        "print(df)"
      ]
    },
    {
      "cell_type": "code",
      "execution_count": 9,
      "metadata": {},
      "outputs": [
        {
          "data": {
            "text/plain": "mauricio.pereira      32\nlucas.sales           27\nlucas.rodrigues       14\noliveira.rafael       10\nyane.lisset            5\nkaroline.lima          5\nfrancisco.cipriano     4\njoseph.adrian          2\nerick.cristhian        2\nrenato.cesar           1\nwilliam.oliveira       0\nromero.reis            0\npaulo.beserra          0\ndtype: int64"
          },
          "execution_count": 9,
          "metadata": {},
          "output_type": "execute_result"
        }
      ],
      "source": [
        "df[df==True].count(axis=0).sort_values(ascending=False)"
      ]
    },
    {
      "cell_type": "code",
      "execution_count": 8,
      "metadata": {},
      "outputs": [
        {
          "data": {
            "text/plain": "basic-hello                    9\nbasic-bmi                      8\nbasic-harmonic-series          7\nbasic-numbers                  6\nbasic-irrf                     6\nfunction-sum                   5\nfunction-factorial             4\nfunction-calc                  3\narray-util                     3\nfunction-fibonacci-sequence    3\nobject-company                 3\nfunction-triangle-checker      3\nfunction-area-of-circle        3\nfunction-prime-nth             3\nfunction-fibonacci-number      3\nobject-comics                  3\nfunction-prime                 3\narray-products                 2\narray-prime-factors            2\narray-prime-numbers            2\narray-matrix-operations        2\nauth-crud                      2\nobject-order-oo                2\narray-fibonacci-sequence       2\narray-products-qtd             2\narray-min-withdraw             2\narray-operations               2\nobject-order-item-oo           1\nfunction_sum                   1\nobject-company-collection      1\narray-sum-all-numbers          1\nfunction-figure-text           1\narray-roman-number             1\nobject-exam                    1\ncrud                           0\nmvc                            0\ndtype: int64"
          },
          "execution_count": 8,
          "metadata": {},
          "output_type": "execute_result"
        }
      ],
      "source": [
        "df[df==True].count(axis=1).sort_values(ascending=False)"
      ]
    },
    {
      "cell_type": "code",
      "execution_count": 6,
      "metadata": {},
      "outputs": [
        {
          "name": "stdout",
          "output_type": "stream",
          "text": "102\n"
        }
      ],
      "source": [
        "print(df[df==True].count().sum())"
      ]
    }
  ]
}